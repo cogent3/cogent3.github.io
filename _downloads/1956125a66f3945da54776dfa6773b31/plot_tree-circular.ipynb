{
  "cells": [
    {
      "cell_type": "code",
      "execution_count": null,
      "metadata": {
        "collapsed": false
      },
      "outputs": [],
      "source": [
        "%matplotlib inline"
      ]
    },
    {
      "cell_type": "markdown",
      "metadata": {},
      "source": [
        "\nDisplay a Phylogenetic Tree with a Circular Dendrogram Style\n============================================================\n"
      ]
    },
    {
      "cell_type": "code",
      "execution_count": null,
      "metadata": {
        "collapsed": false
      },
      "outputs": [],
      "source": [
        "from cogent3.app import io\n\n\nreader = io.load_json()\n\nens_tree = reader(\"../../data/GN-tree.json\")\nfig = ens_tree.get_figure(\"circular\", width=600, height=600)\nfig.show()"
      ]
    },
    {
      "cell_type": "markdown",
      "metadata": {},
      "source": [
        "Colouring a set of edges\n########################\n\n"
      ]
    },
    {
      "cell_type": "code",
      "execution_count": null,
      "metadata": {
        "collapsed": false
      },
      "outputs": [],
      "source": [
        "fig.style_edges(\"AfricanEl\", tip2=\"Manatee\", legendgroup=\"Afrotheria\",\n                line=dict(color=\"magenta\", width=2))\nfig.show()"
      ]
    },
    {
      "cell_type": "markdown",
      "metadata": {},
      "source": [
        "With Contemporaneous Tips\n#########################\n\n"
      ]
    },
    {
      "cell_type": "code",
      "execution_count": null,
      "metadata": {
        "collapsed": false
      },
      "outputs": [],
      "source": [
        "fig.contemporaneous = True\nfig.label_pad = 0.23\n# sphinx_gallery_thumbnail_number = 3\nfig.show(width=550, height=500)"
      ]
    }
  ],
  "metadata": {
    "kernelspec": {
      "display_name": "Python 3",
      "language": "python",
      "name": "python3"
    },
    "language_info": {
      "codemirror_mode": {
        "name": "ipython",
        "version": 3
      },
      "file_extension": ".py",
      "mimetype": "text/x-python",
      "name": "python",
      "nbconvert_exporter": "python",
      "pygments_lexer": "ipython3",
      "version": "3.8.10"
    }
  },
  "nbformat": 4,
  "nbformat_minor": 0
}